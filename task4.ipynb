{
  "nbformat": 4,
  "nbformat_minor": 0,
  "metadata": {
    "colab": {
      "provenance": [],
      "authorship_tag": "ABX9TyOj+Tu9d74mz6hYB3mfdndF",
      "include_colab_link": true
    },
    "kernelspec": {
      "name": "python3",
      "display_name": "Python 3"
    },
    "language_info": {
      "name": "python"
    }
  },
  "cells": [
    {
      "cell_type": "markdown",
      "metadata": {
        "id": "view-in-github",
        "colab_type": "text"
      },
      "source": [
        "<a href=\"https://colab.research.google.com/github/Aiswaryabinu/logistic_regression/blob/main/task4.ipynb\" target=\"_parent\"><img src=\"https://colab.research.google.com/assets/colab-badge.svg\" alt=\"Open In Colab\"/></a>"
      ]
    },
    {
      "cell_type": "markdown",
      "source": [
        "Concordance Index (c-index), a metric used to evaluate how well a model's predicted risk scores correspond with actual outcomes — especially in survival analysis or risk prediction tasks.\n",
        "\n",
        "A perfect model has c-index = 1.0.\n",
        "\n",
        "A random model has c-index ≈ 0.5.\n",
        "\n",
        " used in survival analysis and binary classification to evaluate how well your model ranks pairs of instances."
      ],
      "metadata": {
        "id": "hDA1fNeR-7MB"
      }
    },
    {
      "cell_type": "code",
      "source": [
        "import pandas as pd"
      ],
      "metadata": {
        "id": "EURpEwcd_N_X"
      },
      "execution_count": null,
      "outputs": []
    },
    {
      "cell_type": "code",
      "source": [
        "# define 'y', the outcome of the patient,where 1=disease,0=normal\n",
        "y = pd.Series([0,0,1,0])\n",
        "y.name=\"health\"\n",
        "y\n"
      ],
      "metadata": {
        "colab": {
          "base_uri": "https://localhost:8080/",
          "height": 209
        },
        "id": "zoKxpRrO_car",
        "outputId": "0ba5284b-a18a-49ee-9af2-499c9ee4d6dd"
      },
      "execution_count": null,
      "outputs": [
        {
          "output_type": "execute_result",
          "data": {
            "text/plain": [
              "0    0\n",
              "1    0\n",
              "2    1\n",
              "3    0\n",
              "Name: health, dtype: int64"
            ],
            "text/html": [
              "<div>\n",
              "<style scoped>\n",
              "    .dataframe tbody tr th:only-of-type {\n",
              "        vertical-align: middle;\n",
              "    }\n",
              "\n",
              "    .dataframe tbody tr th {\n",
              "        vertical-align: top;\n",
              "    }\n",
              "\n",
              "    .dataframe thead th {\n",
              "        text-align: right;\n",
              "    }\n",
              "</style>\n",
              "<table border=\"1\" class=\"dataframe\">\n",
              "  <thead>\n",
              "    <tr style=\"text-align: right;\">\n",
              "      <th></th>\n",
              "      <th>health</th>\n",
              "    </tr>\n",
              "  </thead>\n",
              "  <tbody>\n",
              "    <tr>\n",
              "      <th>0</th>\n",
              "      <td>0</td>\n",
              "    </tr>\n",
              "    <tr>\n",
              "      <th>1</th>\n",
              "      <td>0</td>\n",
              "    </tr>\n",
              "    <tr>\n",
              "      <th>2</th>\n",
              "      <td>1</td>\n",
              "    </tr>\n",
              "    <tr>\n",
              "      <th>3</th>\n",
              "      <td>0</td>\n",
              "    </tr>\n",
              "  </tbody>\n",
              "</table>\n",
              "</div><br><label><b>dtype:</b> int64</label>"
            ]
          },
          "metadata": {},
          "execution_count": 2
        }
      ]
    },
    {
      "cell_type": "code",
      "source": [
        "# Define the risk scores for each patient\n",
        "risk_score = pd.Series([2.2, 3.3, 4.4, 4.4])\n",
        "risk_score.name='risk score'\n",
        "risk_score\n"
      ],
      "metadata": {
        "colab": {
          "base_uri": "https://localhost:8080/",
          "height": 209
        },
        "id": "Kbt8OCgc_vg-",
        "outputId": "b8649d47-f0d1-4689-bb6c-decaf943fca3"
      },
      "execution_count": null,
      "outputs": [
        {
          "output_type": "execute_result",
          "data": {
            "text/plain": [
              "0    2.2\n",
              "1    3.3\n",
              "2    4.4\n",
              "3    4.4\n",
              "Name: risk score, dtype: float64"
            ],
            "text/html": [
              "<div>\n",
              "<style scoped>\n",
              "    .dataframe tbody tr th:only-of-type {\n",
              "        vertical-align: middle;\n",
              "    }\n",
              "\n",
              "    .dataframe tbody tr th {\n",
              "        vertical-align: top;\n",
              "    }\n",
              "\n",
              "    .dataframe thead th {\n",
              "        text-align: right;\n",
              "    }\n",
              "</style>\n",
              "<table border=\"1\" class=\"dataframe\">\n",
              "  <thead>\n",
              "    <tr style=\"text-align: right;\">\n",
              "      <th></th>\n",
              "      <th>risk score</th>\n",
              "    </tr>\n",
              "  </thead>\n",
              "  <tbody>\n",
              "    <tr>\n",
              "      <th>0</th>\n",
              "      <td>2.2</td>\n",
              "    </tr>\n",
              "    <tr>\n",
              "      <th>1</th>\n",
              "      <td>3.3</td>\n",
              "    </tr>\n",
              "    <tr>\n",
              "      <th>2</th>\n",
              "      <td>4.4</td>\n",
              "    </tr>\n",
              "    <tr>\n",
              "      <th>3</th>\n",
              "      <td>4.4</td>\n",
              "    </tr>\n",
              "  </tbody>\n",
              "</table>\n",
              "</div><br><label><b>dtype:</b> float64</label>"
            ]
          },
          "metadata": {},
          "execution_count": 3
        }
      ]
    },
    {
      "cell_type": "code",
      "source": [
        "# A pair of patients is permissible if their outcomes are different.\n",
        "if y[0] != y[1]:\n",
        "    print(f\"y[0]={y[0]} and y[1]={y[1]} is a permissible pair\")\n",
        "else:\n",
        "    print(f\"y[0]={y[0]} and y[1]={y[1]} is not a permissible pair\")\n"
      ],
      "metadata": {
        "colab": {
          "base_uri": "https://localhost:8080/"
        },
        "id": "BHvVCwSeAHlL",
        "outputId": "44dd0d9b-a81f-4b84-e247-c9e5a3594cb2"
      },
      "execution_count": null,
      "outputs": [
        {
          "output_type": "stream",
          "name": "stdout",
          "text": [
            "y[0]=0 and y[1]=0 is not a permissible pair\n"
          ]
        }
      ]
    },
    {
      "cell_type": "code",
      "source": [
        "# Check if patients 0 and 2 make a permissible pair\n",
        "if y[0] != y[2]:\n",
        "    print(f\"y[0]={y[0]} and y[2]={y[2]} is a permissible pair\")\n",
        "else:\n",
        "    print(f\"y[0]={y[0]} and y[2]={y[2]} is NOT permissible pair\")\n",
        "\n"
      ],
      "metadata": {
        "colab": {
          "base_uri": "https://localhost:8080/"
        },
        "id": "fZbr7_UCAati",
        "outputId": "7c83750f-7ef0-48ec-fcb2-1b78c0628472"
      },
      "execution_count": null,
      "outputs": [
        {
          "output_type": "stream",
          "name": "stdout",
          "text": [
            "y[0]=0 and y[2]=1 is a permissible pair\n"
          ]
        }
      ]
    },
    {
      "cell_type": "code",
      "source": [
        "\n",
        "# Check if patients 2 and 3 make a risk tie\n",
        "if risk_score[2] == risk_score[3]:\n",
        "    print(f\"patient 2 ({risk_score[2]}) and patient 3 ({risk_score[3]}) have a risk tie\")\n",
        "else:\n",
        "    print(f\"patient 2 ({risk_score[2]}) and patient 3 ({risk_score[3]}) DO NOT have a risk tie\")\n"
      ],
      "metadata": {
        "colab": {
          "base_uri": "https://localhost:8080/"
        },
        "id": "dLIvWqooAfou",
        "outputId": "d6c10f6d-d9ca-4fa3-db9a-47f7273ff0b2"
      },
      "execution_count": null,
      "outputs": [
        {
          "output_type": "stream",
          "name": "stdout",
          "text": [
            "patient 2 (4.4) and patient 3 (4.4) have a risk tie\n"
          ]
        }
      ]
    },
    {
      "cell_type": "code",
      "source": [
        "# Check if patient 1 and 2 make a concordant pair\n",
        "if y[1] == 0 and y[2] == 1:\n",
        "    if risk_score[1] < risk_score[2]:\n",
        "        print(f\"patient 1 and 2 is a concordant pair\")"
      ],
      "metadata": {
        "colab": {
          "base_uri": "https://localhost:8080/"
        },
        "id": "AjqiHI4mAoJs",
        "outputId": "3002f9ba-f751-43e1-962b-a6f4609f8ffb"
      },
      "execution_count": null,
      "outputs": [
        {
          "output_type": "stream",
          "name": "stdout",
          "text": [
            "patient 1 and 2 is a concordant pair\n"
          ]
        }
      ]
    },
    {
      "cell_type": "code",
      "source": [
        "# - check the other situation where patient 1 has the disease and patient 2 is healthy.\n",
        "if y[1] == 1 and y[2] == 0:\n",
        "    if risk_score[1] > risk_score[2]:\n",
        "        print(f\"patient 1 and 2 is a concordant pair\")\n"
      ],
      "metadata": {
        "id": "QCziMwuvBIPv"
      },
      "execution_count": null,
      "outputs": []
    },
    {
      "cell_type": "markdown",
      "source": [
        "\n",
        "Example:\n",
        "Imagine two patients, one with a higher risk of a certain disease and another with a lower risk. If a model predicts that the patient with higher risk will experience the event (e.g., disease progression) before the patient with lower risk, and this is also what happens in reality, then this pair is considered concordant. The C-index would be higher if more such pairs are correctly predicted by the model"
      ],
      "metadata": {
        "id": "ULvgZtSICHD1"
      }
    },
    {
      "cell_type": "markdown",
      "source": [
        "c-index=(Concordant + 0.5 × Ties) / Total permissible pairs"
      ],
      "metadata": {
        "id": "LY0gze8DDPEK"
      }
    },
    {
      "cell_type": "code",
      "source": [],
      "metadata": {
        "id": "FLMRCSEjC1YX"
      },
      "execution_count": null,
      "outputs": []
    }
  ]
}