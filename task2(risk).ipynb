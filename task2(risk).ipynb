{
  "nbformat": 4,
  "nbformat_minor": 0,
  "metadata": {
    "colab": {
      "provenance": [],
      "authorship_tag": "ABX9TyPBVhOksJB/dUzTeiExnBJ8",
      "include_colab_link": true
    },
    "kernelspec": {
      "name": "python3",
      "display_name": "Python 3"
    },
    "language_info": {
      "name": "python"
    }
  },
  "cells": [
    {
      "cell_type": "markdown",
      "metadata": {
        "id": "view-in-github",
        "colab_type": "text"
      },
      "source": [
        "<a href=\"https://colab.research.google.com/github/Aiswaryabinu/logistic_regression/blob/main/task2(risk).ipynb\" target=\"_parent\"><img src=\"https://colab.research.google.com/assets/colab-badge.svg\" alt=\"Open In Colab\"/></a>"
      ]
    },
    {
      "cell_type": "markdown",
      "source": [
        "The CHA2DS2-VASc score is a tool used to assess the risk of stroke in individuals with atrial fibrillation.\n"
      ],
      "metadata": {
        "id": "5sFbRMxlF-xD"
      }
    },
    {
      "cell_type": "code",
      "execution_count": null,
      "metadata": {
        "id": "GEaoQF14FVNn"
      },
      "outputs": [],
      "source": [
        "def chads_vasc_score(patient):\n",
        "    score = 0\n",
        "\n",
        "    if patient[\"hypertension\"]:\n",
        "        score += 1\n",
        "    if patient[\"age\"] >= 75:\n",
        "        score += 2\n",
        "    elif 65 <= patient[\"age\"] < 75:\n",
        "        score += 1\n",
        "    if patient[\"diabetes\"]:\n",
        "        score += 1\n",
        "    if patient[\"stroke\"]:\n",
        "        score += 2\n",
        "    if patient[\"vascular_disease\"]:\n",
        "        score += 1\n",
        "    if patient[\"sex\"] == \"female\":\n",
        "        score += 1\n",
        "    if patient[\"heart_failure\"]:\n",
        "        score += 1\n",
        "\n",
        "    return score\n"
      ]
    },
    {
      "cell_type": "markdown",
      "source": [
        "Low Risk: Score = 0 (men) or 1 (women) → No treatment needed.\n",
        "\n",
        "Moderate Risk: Score = 1 (men) or 2 (women) → Consider treatment.\n",
        "\n",
        "High Risk: Score ≥ 2 (men) or ≥ 3 (women) → Anticoagulation recommended."
      ],
      "metadata": {
        "id": "ZgZWgATDGnLY"
      }
    },
    {
      "cell_type": "code",
      "source": [
        "patient = {\n",
        "    \"heart_failure\": False,\n",
        "    \"hypertension\": True,\n",
        "    \"age\": 60,\n",
        "    \"diabetes\": False,\n",
        "    \"stroke\": False,\n",
        "    \"vascular_disease\": True,\n",
        "    \"sex\": \"female\"\n",
        "}\n",
        "\n",
        "print(chads_vasc_score(patient))  # Output: 3 # high risk\n"
      ],
      "metadata": {
        "colab": {
          "base_uri": "https://localhost:8080/"
        },
        "id": "Qs7DcSYjF8DO",
        "outputId": "e2fd6c94-e8e4-4adb-be80-9f7e7f3ce0d6"
      },
      "execution_count": null,
      "outputs": [
        {
          "output_type": "stream",
          "name": "stdout",
          "text": [
            "3\n"
          ]
        }
      ]
    },
    {
      "cell_type": "markdown",
      "source": [
        "The MELD (Model for End-Stage Liver Disease) score is a numerical scale used to assess the severity of chronic liver disease and prioritize patients for liver transplantation\n",
        "\n",
        "MELD Score = 9.57 * ln(creatinine) + 3.78 * ln(bilirubin) + 11.2 * ln(INR) + 6.43\n",
        "\n",
        "Where:\n",
        "\n",
        "  ln: represents the natural logarithm.\n",
        "\n",
        "  Creatinine: is measured in mg/dL.\n",
        "\n",
        "  Bilirubin: is measured in mg/dL.\n",
        "\n",
        "  INR: is the International Normalized Ratio.\n"
      ],
      "metadata": {
        "id": "h3fV8OUZHuRQ"
      }
    },
    {
      "cell_type": "code",
      "source": [
        "import numpy as np"
      ],
      "metadata": {
        "id": "drqcH2ZkG18J"
      },
      "execution_count": null,
      "outputs": []
    },
    {
      "cell_type": "code",
      "source": [
        "\n",
        "def liver_disease_mortality(input_creatine, input_bilirubin, input_inr):\n",
        "    \"\"\"\n",
        "    Calculate the probability of mortality given that the patient has\n",
        "    liver disease.\n",
        "    Parameters:\n",
        "        Creatine: mg/dL\n",
        "        Bilirubin: mg/dL\n",
        "        INR:\n",
        "    \"\"\"\n",
        "    # Coefficient values\n",
        "    coef_creatine = 0.957\n",
        "    coef_bilirubin = 0.378\n",
        "    coef_inr = 1.12\n",
        "    intercept = 0.643\n",
        "    # Calculate the natural logarithm of input variables\n",
        "    log_cre = np.log(input_creatine)\n",
        "    log_bil = np.log(input_bilirubin)\n",
        "\n",
        "    #  Calculate the natural log of input_inr\n",
        "    log_inr = np.log(input_inr)\n",
        "\n",
        "    # Compute output\n",
        "    meld_score = (coef_creatine * log_cre) +(coef_bilirubin * log_bil ) +(coef_inr * log_inr) +intercept\n",
        "\n",
        "    #  Multiply meld_score by 10 to get the final risk score\n",
        "    meld_score = meld_score * 10\n",
        "\n",
        "    return meld_score"
      ],
      "metadata": {
        "id": "cDs1Xe8yIA8e"
      },
      "execution_count": null,
      "outputs": []
    },
    {
      "cell_type": "code",
      "source": [
        "\n",
        "tmp_meld_score = liver_disease_mortality(1.0, 2.0, 1.1)\n",
        "print(f\"The patient's MELD score is: {tmp_meld_score:.2f}\")"
      ],
      "metadata": {
        "colab": {
          "base_uri": "https://localhost:8080/"
        },
        "id": "LKv5P9MlKt4U",
        "outputId": "0e99c78b-6d17-4f7a-9461-452e39179b21"
      },
      "execution_count": null,
      "outputs": [
        {
          "output_type": "stream",
          "name": "stdout",
          "text": [
            "The patient's MELD score is: 10.12\n"
          ]
        }
      ]
    },
    {
      "cell_type": "markdown",
      "source": [
        "ASCVD stands for Atherosclerotic Cardiovascular Disease. It refers to a group of conditions caused by the buildup of plaque in the arteries, leading to narrowed or blocked blood vessels.\n",
        "\n",
        "    \"\"\"\n",
        "    Atherosclerotic Cardiovascular Disease (ASCVD) Risk Estimator Plus\n",
        "\n",
        "    Parameters:\n",
        "        x_age : Age in years\n",
        "        x_cho : Total cholesterol (mg/dL)\n",
        "        x_hdl : HDL cholesterol (mg/dL)\n",
        "        x_sbp : Systolic blood pressure (mmHg)\n",
        "        x_smo : Smoking status (1 = smoker, 0 = non-smoker)\n",
        "        x_dia : Diabetes status (1 = diabetic, 0 = non-diabetic)\n",
        "        verbose : If True, prints intermediate values\n",
        "\n",
        "    Returns:\n",
        "        risk_score : Estimated ASCVD risk score\n",
        "    \"\"\""
      ],
      "metadata": {
        "id": "XYyO-jLgL2nV"
      }
    },
    {
      "cell_type": "code",
      "source": [
        "import numpy as np\n",
        "\n",
        "def ascvd(x_age,\n",
        "          x_cho,\n",
        "          x_hdl,\n",
        "          x_sbp,\n",
        "          x_smo,\n",
        "          x_dia,\n",
        "          verbose=False\n",
        "         ):\n",
        "\n",
        "    # Define the coefficients\n",
        "    b_age = 17.114\n",
        "    b_cho = 0.94\n",
        "    b_hdl = -18.92\n",
        "    b_age_hdl = 4.475\n",
        "    b_sbp = 27.82\n",
        "    b_age_sbp = -6.087\n",
        "    b_smo = 0.691\n",
        "    b_dia = 0.874\n",
        "\n",
        "    # Calculate the sum of the products of inputs and coefficients\n",
        "    sum_prod = (\n",
        "        b_age * np.log(x_age) +\n",
        "        b_cho * np.log(x_cho) +\n",
        "        b_hdl * np.log(x_hdl) +\n",
        "        b_age_hdl * np.log(x_age) * np.log(x_hdl) +\n",
        "        b_sbp * np.log(x_sbp) +\n",
        "        b_age_sbp * np.log(x_age) * np.log(x_sbp) +\n",
        "        b_smo * x_smo +\n",
        "        b_dia * x_dia\n",
        "    )\n",
        "\n",
        "    if verbose:\n",
        "        print(f\"np.log(x_age):{np.log(x_age):.2f}\")\n",
        "        print(f\"np.log(x_cho):{np.log(x_cho):.2f}\")\n",
        "        print(f\"np.log(x_hdl):{np.log(x_hdl):.2f}\")\n",
        "        print(f\"np.log(x_age) * np.log(x_hdl):{np.log(x_age) * np.log(x_hdl):.2f}\")\n",
        "        print(f\"np.log(x_sbp): {np.log(x_sbp):.2f}\")\n",
        "        print(f\"np.log(x_age) * np.log(x_sbp): {np.log(x_age) * np.log(x_sbp):.2f}\")\n",
        "        print(f\"sum_prod {sum_prod:.2f}\")\n",
        "\n",
        "    # Calculate Risk Score = 1 - (0.9533 ^ (e ^ (sum_prod - 86.61)))\n",
        "    risk_score = 1 - np.power(0.9533, np.exp(sum_prod - 86.61))\n",
        "\n",
        "    return risk_score\n"
      ],
      "metadata": {
        "id": "ttzfhcSzLVYz"
      },
      "execution_count": null,
      "outputs": []
    },
    {
      "cell_type": "code",
      "source": [
        "tmp_risk_score = ascvd(x_age=55,\n",
        "                      x_cho=213,\n",
        "                      x_hdl=50,\n",
        "                      x_sbp=120,\n",
        "                      x_smo=0,\n",
        "                      x_dia=0,\n",
        "                      verbose=True\n",
        "                      )\n",
        "print(f\"\\npatient's ascvd risk score is {tmp_risk_score:.2f}\")"
      ],
      "metadata": {
        "colab": {
          "base_uri": "https://localhost:8080/"
        },
        "id": "H1i07R7lO7Mw",
        "outputId": "fd67ff87-efaf-4138-a08e-3760b7db0bdd"
      },
      "execution_count": null,
      "outputs": [
        {
          "output_type": "stream",
          "name": "stdout",
          "text": [
            "np.log(x_age):4.01\n",
            "np.log(x_cho):5.36\n",
            "np.log(x_hdl):3.91\n",
            "np.log(x_age) * np.log(x_hdl):15.68\n",
            "np.log(x_sbp): 4.79\n",
            "np.log(x_age) * np.log(x_sbp): 19.19\n",
            "sum_prod 86.17\n",
            "\n",
            "patient's ascvd risk score is 0.03\n"
          ]
        }
      ]
    },
    {
      "cell_type": "code",
      "source": [
        "import numpy as np\n",
        "import pandas as pd"
      ],
      "metadata": {
        "id": "moTxHjgrQAPi"
      },
      "execution_count": null,
      "outputs": []
    },
    {
      "cell_type": "code",
      "source": [
        "# Load dataset with 100 rows\n",
        "X, y = load_data(100)\n",
        "\n",
        "# Display the first few rows\n",
        "print(\"Features (X):\")\n",
        "print(X.head())\n",
        "\n",
        "print(\"\\nLabels (y):\")\n",
        "print(y.head())"
      ],
      "metadata": {
        "colab": {
          "base_uri": "https://localhost:8080/"
        },
        "id": "UDt2xCJ3QE3v",
        "outputId": "16979608-6816-41fb-a74f-ae62e366255a"
      },
      "execution_count": null,
      "outputs": [
        {
          "output_type": "stream",
          "name": "stdout",
          "text": [
            "Features (X):\n",
            "   feature_0  feature_1  feature_2  feature_3  feature_4\n",
            "0   0.837757   0.402522   0.157880   0.640673   0.254098\n",
            "1   0.398717   0.945840   0.961916   0.461422   0.708695\n",
            "2   0.960956   0.765708   0.317410   0.041396   0.361672\n",
            "3   0.246340   0.770420   0.824126   0.498830   0.810363\n",
            "4   0.466056   0.356168   0.497639   0.752016   0.611973\n",
            "\n",
            "Labels (y):\n",
            "0    0\n",
            "1    0\n",
            "2    1\n",
            "3    0\n",
            "4    1\n",
            "Name: target, dtype: int64\n"
          ]
        }
      ]
    },
    {
      "cell_type": "code",
      "metadata": {
        "id": "e8aff492"
      },
      "source": [
        "def load_data(num_rows):\n",
        "  \"\"\"\n",
        "  Placeholder function for loading data.\n",
        "  Replace with your actual data loading logic.\n",
        "  \"\"\"\n",
        "  # Create dummy dataframes for demonstration\n",
        "  X = pd.DataFrame(np.random.rand(num_rows, 5), columns=[f'feature_{i}' for i in range(5)])\n",
        "  y = pd.Series(np.random.randint(0, 2, num_rows), name='target')\n",
        "  return X, y"
      ],
      "execution_count": null,
      "outputs": []
    },
    {
      "cell_type": "code",
      "source": [
        "# utils.py\n",
        "\n",
        "import numpy as np\n",
        "import pandas as pd\n",
        "\n",
        "def load_data(n_samples=100):\n",
        "    \"\"\"\n",
        "    Generates synthetic tabular data for testing purposes.\n",
        "\n",
        "    Parameters:\n",
        "    - n_samples: number of samples to generate\n",
        "\n",
        "    Returns:\n",
        "    - X: pd.DataFrame of features\n",
        "    - y: pd.Series of binary labels (0 or 1)\n",
        "    \"\"\"\n",
        "    np.random.seed(42)  # for reproducibility\n",
        "\n",
        "    X = pd.DataFrame({\n",
        "        'age': np.random.randint(20, 80, size=n_samples),\n",
        "        'cholesterol': np.random.randint(150, 300, size=n_samples),\n",
        "        'hdl': np.random.randint(30, 100, size=n_samples),\n",
        "        'sbp': np.random.randint(90, 180, size=n_samples),\n",
        "        'creatinine': np.random.uniform(0.5, 3.0, size=n_samples),\n",
        "        'bilirubin': np.random.uniform(0.2, 5.0, size=n_samples),\n",
        "        'inr': np.random.uniform(0.9, 2.5, size=n_samples),\n",
        "        'smoker': np.random.choice([0, 1], size=n_samples),\n",
        "        'diabetic': np.random.choice([0, 1], size=n_samples),\n",
        "    })\n",
        "\n",
        "    y = pd.Series(np.random.choice([0, 1], size=n_samples), name='label')\n",
        "\n",
        "    return X, y\n"
      ],
      "metadata": {
        "id": "SwLBSBkAKmCj"
      },
      "execution_count": null,
      "outputs": []
    },
    {
      "cell_type": "code",
      "source": [
        "X.head()"
      ],
      "metadata": {
        "colab": {
          "base_uri": "https://localhost:8080/",
          "height": 206
        },
        "id": "xyCR6xG4LCCS",
        "outputId": "4441dcc0-d814-4df0-da1a-0e1b4103087a"
      },
      "execution_count": null,
      "outputs": [
        {
          "output_type": "execute_result",
          "data": {
            "text/plain": [
              "   feature_0  feature_1  feature_2  feature_3  feature_4\n",
              "0   0.837757   0.402522   0.157880   0.640673   0.254098\n",
              "1   0.398717   0.945840   0.961916   0.461422   0.708695\n",
              "2   0.960956   0.765708   0.317410   0.041396   0.361672\n",
              "3   0.246340   0.770420   0.824126   0.498830   0.810363\n",
              "4   0.466056   0.356168   0.497639   0.752016   0.611973"
            ],
            "text/html": [
              "\n",
              "  <div id=\"df-4b95e439-612d-4359-af53-1fc58949debd\" class=\"colab-df-container\">\n",
              "    <div>\n",
              "<style scoped>\n",
              "    .dataframe tbody tr th:only-of-type {\n",
              "        vertical-align: middle;\n",
              "    }\n",
              "\n",
              "    .dataframe tbody tr th {\n",
              "        vertical-align: top;\n",
              "    }\n",
              "\n",
              "    .dataframe thead th {\n",
              "        text-align: right;\n",
              "    }\n",
              "</style>\n",
              "<table border=\"1\" class=\"dataframe\">\n",
              "  <thead>\n",
              "    <tr style=\"text-align: right;\">\n",
              "      <th></th>\n",
              "      <th>feature_0</th>\n",
              "      <th>feature_1</th>\n",
              "      <th>feature_2</th>\n",
              "      <th>feature_3</th>\n",
              "      <th>feature_4</th>\n",
              "    </tr>\n",
              "  </thead>\n",
              "  <tbody>\n",
              "    <tr>\n",
              "      <th>0</th>\n",
              "      <td>0.837757</td>\n",
              "      <td>0.402522</td>\n",
              "      <td>0.157880</td>\n",
              "      <td>0.640673</td>\n",
              "      <td>0.254098</td>\n",
              "    </tr>\n",
              "    <tr>\n",
              "      <th>1</th>\n",
              "      <td>0.398717</td>\n",
              "      <td>0.945840</td>\n",
              "      <td>0.961916</td>\n",
              "      <td>0.461422</td>\n",
              "      <td>0.708695</td>\n",
              "    </tr>\n",
              "    <tr>\n",
              "      <th>2</th>\n",
              "      <td>0.960956</td>\n",
              "      <td>0.765708</td>\n",
              "      <td>0.317410</td>\n",
              "      <td>0.041396</td>\n",
              "      <td>0.361672</td>\n",
              "    </tr>\n",
              "    <tr>\n",
              "      <th>3</th>\n",
              "      <td>0.246340</td>\n",
              "      <td>0.770420</td>\n",
              "      <td>0.824126</td>\n",
              "      <td>0.498830</td>\n",
              "      <td>0.810363</td>\n",
              "    </tr>\n",
              "    <tr>\n",
              "      <th>4</th>\n",
              "      <td>0.466056</td>\n",
              "      <td>0.356168</td>\n",
              "      <td>0.497639</td>\n",
              "      <td>0.752016</td>\n",
              "      <td>0.611973</td>\n",
              "    </tr>\n",
              "  </tbody>\n",
              "</table>\n",
              "</div>\n",
              "    <div class=\"colab-df-buttons\">\n",
              "\n",
              "  <div class=\"colab-df-container\">\n",
              "    <button class=\"colab-df-convert\" onclick=\"convertToInteractive('df-4b95e439-612d-4359-af53-1fc58949debd')\"\n",
              "            title=\"Convert this dataframe to an interactive table.\"\n",
              "            style=\"display:none;\">\n",
              "\n",
              "  <svg xmlns=\"http://www.w3.org/2000/svg\" height=\"24px\" viewBox=\"0 -960 960 960\">\n",
              "    <path d=\"M120-120v-720h720v720H120Zm60-500h600v-160H180v160Zm220 220h160v-160H400v160Zm0 220h160v-160H400v160ZM180-400h160v-160H180v160Zm440 0h160v-160H620v160ZM180-180h160v-160H180v160Zm440 0h160v-160H620v160Z\"/>\n",
              "  </svg>\n",
              "    </button>\n",
              "\n",
              "  <style>\n",
              "    .colab-df-container {\n",
              "      display:flex;\n",
              "      gap: 12px;\n",
              "    }\n",
              "\n",
              "    .colab-df-convert {\n",
              "      background-color: #E8F0FE;\n",
              "      border: none;\n",
              "      border-radius: 50%;\n",
              "      cursor: pointer;\n",
              "      display: none;\n",
              "      fill: #1967D2;\n",
              "      height: 32px;\n",
              "      padding: 0 0 0 0;\n",
              "      width: 32px;\n",
              "    }\n",
              "\n",
              "    .colab-df-convert:hover {\n",
              "      background-color: #E2EBFA;\n",
              "      box-shadow: 0px 1px 2px rgba(60, 64, 67, 0.3), 0px 1px 3px 1px rgba(60, 64, 67, 0.15);\n",
              "      fill: #174EA6;\n",
              "    }\n",
              "\n",
              "    .colab-df-buttons div {\n",
              "      margin-bottom: 4px;\n",
              "    }\n",
              "\n",
              "    [theme=dark] .colab-df-convert {\n",
              "      background-color: #3B4455;\n",
              "      fill: #D2E3FC;\n",
              "    }\n",
              "\n",
              "    [theme=dark] .colab-df-convert:hover {\n",
              "      background-color: #434B5C;\n",
              "      box-shadow: 0px 1px 3px 1px rgba(0, 0, 0, 0.15);\n",
              "      filter: drop-shadow(0px 1px 2px rgba(0, 0, 0, 0.3));\n",
              "      fill: #FFFFFF;\n",
              "    }\n",
              "  </style>\n",
              "\n",
              "    <script>\n",
              "      const buttonEl =\n",
              "        document.querySelector('#df-4b95e439-612d-4359-af53-1fc58949debd button.colab-df-convert');\n",
              "      buttonEl.style.display =\n",
              "        google.colab.kernel.accessAllowed ? 'block' : 'none';\n",
              "\n",
              "      async function convertToInteractive(key) {\n",
              "        const element = document.querySelector('#df-4b95e439-612d-4359-af53-1fc58949debd');\n",
              "        const dataTable =\n",
              "          await google.colab.kernel.invokeFunction('convertToInteractive',\n",
              "                                                    [key], {});\n",
              "        if (!dataTable) return;\n",
              "\n",
              "        const docLinkHtml = 'Like what you see? Visit the ' +\n",
              "          '<a target=\"_blank\" href=https://colab.research.google.com/notebooks/data_table.ipynb>data table notebook</a>'\n",
              "          + ' to learn more about interactive tables.';\n",
              "        element.innerHTML = '';\n",
              "        dataTable['output_type'] = 'display_data';\n",
              "        await google.colab.output.renderOutput(dataTable, element);\n",
              "        const docLink = document.createElement('div');\n",
              "        docLink.innerHTML = docLinkHtml;\n",
              "        element.appendChild(docLink);\n",
              "      }\n",
              "    </script>\n",
              "  </div>\n",
              "\n",
              "\n",
              "    <div id=\"df-048f7220-0641-4727-90db-d75b6d1b2652\">\n",
              "      <button class=\"colab-df-quickchart\" onclick=\"quickchart('df-048f7220-0641-4727-90db-d75b6d1b2652')\"\n",
              "                title=\"Suggest charts\"\n",
              "                style=\"display:none;\">\n",
              "\n",
              "<svg xmlns=\"http://www.w3.org/2000/svg\" height=\"24px\"viewBox=\"0 0 24 24\"\n",
              "     width=\"24px\">\n",
              "    <g>\n",
              "        <path d=\"M19 3H5c-1.1 0-2 .9-2 2v14c0 1.1.9 2 2 2h14c1.1 0 2-.9 2-2V5c0-1.1-.9-2-2-2zM9 17H7v-7h2v7zm4 0h-2V7h2v10zm4 0h-2v-4h2v4z\"/>\n",
              "    </g>\n",
              "</svg>\n",
              "      </button>\n",
              "\n",
              "<style>\n",
              "  .colab-df-quickchart {\n",
              "      --bg-color: #E8F0FE;\n",
              "      --fill-color: #1967D2;\n",
              "      --hover-bg-color: #E2EBFA;\n",
              "      --hover-fill-color: #174EA6;\n",
              "      --disabled-fill-color: #AAA;\n",
              "      --disabled-bg-color: #DDD;\n",
              "  }\n",
              "\n",
              "  [theme=dark] .colab-df-quickchart {\n",
              "      --bg-color: #3B4455;\n",
              "      --fill-color: #D2E3FC;\n",
              "      --hover-bg-color: #434B5C;\n",
              "      --hover-fill-color: #FFFFFF;\n",
              "      --disabled-bg-color: #3B4455;\n",
              "      --disabled-fill-color: #666;\n",
              "  }\n",
              "\n",
              "  .colab-df-quickchart {\n",
              "    background-color: var(--bg-color);\n",
              "    border: none;\n",
              "    border-radius: 50%;\n",
              "    cursor: pointer;\n",
              "    display: none;\n",
              "    fill: var(--fill-color);\n",
              "    height: 32px;\n",
              "    padding: 0;\n",
              "    width: 32px;\n",
              "  }\n",
              "\n",
              "  .colab-df-quickchart:hover {\n",
              "    background-color: var(--hover-bg-color);\n",
              "    box-shadow: 0 1px 2px rgba(60, 64, 67, 0.3), 0 1px 3px 1px rgba(60, 64, 67, 0.15);\n",
              "    fill: var(--button-hover-fill-color);\n",
              "  }\n",
              "\n",
              "  .colab-df-quickchart-complete:disabled,\n",
              "  .colab-df-quickchart-complete:disabled:hover {\n",
              "    background-color: var(--disabled-bg-color);\n",
              "    fill: var(--disabled-fill-color);\n",
              "    box-shadow: none;\n",
              "  }\n",
              "\n",
              "  .colab-df-spinner {\n",
              "    border: 2px solid var(--fill-color);\n",
              "    border-color: transparent;\n",
              "    border-bottom-color: var(--fill-color);\n",
              "    animation:\n",
              "      spin 1s steps(1) infinite;\n",
              "  }\n",
              "\n",
              "  @keyframes spin {\n",
              "    0% {\n",
              "      border-color: transparent;\n",
              "      border-bottom-color: var(--fill-color);\n",
              "      border-left-color: var(--fill-color);\n",
              "    }\n",
              "    20% {\n",
              "      border-color: transparent;\n",
              "      border-left-color: var(--fill-color);\n",
              "      border-top-color: var(--fill-color);\n",
              "    }\n",
              "    30% {\n",
              "      border-color: transparent;\n",
              "      border-left-color: var(--fill-color);\n",
              "      border-top-color: var(--fill-color);\n",
              "      border-right-color: var(--fill-color);\n",
              "    }\n",
              "    40% {\n",
              "      border-color: transparent;\n",
              "      border-right-color: var(--fill-color);\n",
              "      border-top-color: var(--fill-color);\n",
              "    }\n",
              "    60% {\n",
              "      border-color: transparent;\n",
              "      border-right-color: var(--fill-color);\n",
              "    }\n",
              "    80% {\n",
              "      border-color: transparent;\n",
              "      border-right-color: var(--fill-color);\n",
              "      border-bottom-color: var(--fill-color);\n",
              "    }\n",
              "    90% {\n",
              "      border-color: transparent;\n",
              "      border-bottom-color: var(--fill-color);\n",
              "    }\n",
              "  }\n",
              "</style>\n",
              "\n",
              "      <script>\n",
              "        async function quickchart(key) {\n",
              "          const quickchartButtonEl =\n",
              "            document.querySelector('#' + key + ' button');\n",
              "          quickchartButtonEl.disabled = true;  // To prevent multiple clicks.\n",
              "          quickchartButtonEl.classList.add('colab-df-spinner');\n",
              "          try {\n",
              "            const charts = await google.colab.kernel.invokeFunction(\n",
              "                'suggestCharts', [key], {});\n",
              "          } catch (error) {\n",
              "            console.error('Error during call to suggestCharts:', error);\n",
              "          }\n",
              "          quickchartButtonEl.classList.remove('colab-df-spinner');\n",
              "          quickchartButtonEl.classList.add('colab-df-quickchart-complete');\n",
              "        }\n",
              "        (() => {\n",
              "          let quickchartButtonEl =\n",
              "            document.querySelector('#df-048f7220-0641-4727-90db-d75b6d1b2652 button');\n",
              "          quickchartButtonEl.style.display =\n",
              "            google.colab.kernel.accessAllowed ? 'block' : 'none';\n",
              "        })();\n",
              "      </script>\n",
              "    </div>\n",
              "\n",
              "    </div>\n",
              "  </div>\n"
            ],
            "application/vnd.google.colaboratory.intrinsic+json": {
              "type": "dataframe",
              "variable_name": "X",
              "summary": "{\n  \"name\": \"X\",\n  \"rows\": 100,\n  \"fields\": [\n    {\n      \"column\": \"feature_0\",\n      \"properties\": {\n        \"dtype\": \"number\",\n        \"std\": 0.28367790675290444,\n        \"min\": 0.009979024056812613,\n        \"max\": 0.9931329462134179,\n        \"num_unique_values\": 100,\n        \"samples\": [\n          0.658880360829331,\n          0.4614537262692894,\n          0.8890364924614154\n        ],\n        \"semantic_type\": \"\",\n        \"description\": \"\"\n      }\n    },\n    {\n      \"column\": \"feature_1\",\n      \"properties\": {\n        \"dtype\": \"number\",\n        \"std\": 0.2928827502112366,\n        \"min\": 0.0067407308677496225,\n        \"max\": 0.9935858520423072,\n        \"num_unique_values\": 100,\n        \"samples\": [\n          0.5804581547622945,\n          0.1370994798327433,\n          0.9411752641371919\n        ],\n        \"semantic_type\": \"\",\n        \"description\": \"\"\n      }\n    },\n    {\n      \"column\": \"feature_2\",\n      \"properties\": {\n        \"dtype\": \"number\",\n        \"std\": 0.30623797338503933,\n        \"min\": 0.015676501269510812,\n        \"max\": 0.9989195700544464,\n        \"num_unique_values\": 100,\n        \"samples\": [\n          0.2634993928356242,\n          0.6875921749228586,\n          0.9867200676956647\n        ],\n        \"semantic_type\": \"\",\n        \"description\": \"\"\n      }\n    },\n    {\n      \"column\": \"feature_3\",\n      \"properties\": {\n        \"dtype\": \"number\",\n        \"std\": 0.3029042156409227,\n        \"min\": 0.005430108246614274,\n        \"max\": 0.9907335904613962,\n        \"num_unique_values\": 100,\n        \"samples\": [\n          0.046909955600342945,\n          0.4967835230734674,\n          0.05713923006682109\n        ],\n        \"semantic_type\": \"\",\n        \"description\": \"\"\n      }\n    },\n    {\n      \"column\": \"feature_4\",\n      \"properties\": {\n        \"dtype\": \"number\",\n        \"std\": 0.28769851880767183,\n        \"min\": 0.005718462955998427,\n        \"max\": 0.9970349774379583,\n        \"num_unique_values\": 100,\n        \"samples\": [\n          0.47330154819617987,\n          0.0643575746410111,\n          0.7752124010042526\n        ],\n        \"semantic_type\": \"\",\n        \"description\": \"\"\n      }\n    }\n  ]\n}"
            }
          },
          "metadata": {},
          "execution_count": 6
        }
      ]
    },
    {
      "cell_type": "code",
      "source": [
        "# Call the .mean function of the data frame without choosing an axis\n",
        "print(f\"Pandas: X.mean():\\n{X.mean()}\")\n",
        "print()"
      ],
      "metadata": {
        "colab": {
          "base_uri": "https://localhost:8080/"
        },
        "id": "Rk9AtlJJLO2O",
        "outputId": "97cc007e-a7ca-4933-f1bb-363f3e66e11a"
      },
      "execution_count": null,
      "outputs": [
        {
          "output_type": "stream",
          "name": "stdout",
          "text": [
            "Pandas: X.mean():\n",
            "feature_0    0.494141\n",
            "feature_1    0.547893\n",
            "feature_2    0.510795\n",
            "feature_3    0.492006\n",
            "feature_4    0.542039\n",
            "dtype: float64\n",
            "\n"
          ]
        }
      ]
    },
    {
      "cell_type": "code",
      "source": [
        "# Call the .mean function of the data frame, choosing axis=0\n",
        "print(f\"Pandas: X.mean(axis=0)\\n{X.mean(axis=0)}\")"
      ],
      "metadata": {
        "colab": {
          "base_uri": "https://localhost:8080/"
        },
        "id": "zxRemaDSLUeG",
        "outputId": "2c71834b-32ca-4a5d-a83b-591366025c63"
      },
      "execution_count": null,
      "outputs": [
        {
          "output_type": "stream",
          "name": "stdout",
          "text": [
            "Pandas: X.mean(axis=0)\n",
            "feature_0    0.494141\n",
            "feature_1    0.547893\n",
            "feature_2    0.510795\n",
            "feature_3    0.492006\n",
            "feature_4    0.542039\n",
            "dtype: float64\n"
          ]
        }
      ]
    },
    {
      "cell_type": "code",
      "source": [
        "\n",
        "# Store the data frame data into a numpy array\n",
        "X_np = np.array(X)"
      ],
      "metadata": {
        "id": "kxgE3XoVLjPP"
      },
      "execution_count": null,
      "outputs": []
    },
    {
      "cell_type": "code",
      "source": [
        "# view the first 2 rows of the numpy array\n",
        "print(f\"First 2 rows of the numpy array:\\n{X_np[0:2,:]}\")\n",
        "print"
      ],
      "metadata": {
        "id": "SZTZdHGDLmiA",
        "outputId": "9c313f34-6f3a-4df9-aede-089446b90b6b",
        "colab": {
          "base_uri": "https://localhost:8080/"
        }
      },
      "execution_count": null,
      "outputs": [
        {
          "output_type": "stream",
          "name": "stdout",
          "text": [
            "First 2 rows of the numpy array:\n",
            "[[0.83775695 0.40252219 0.15788001 0.64067314 0.25409848]\n",
            " [0.39871667 0.94583998 0.96191575 0.46142213 0.70869528]]\n"
          ]
        },
        {
          "output_type": "execute_result",
          "data": {
            "text/plain": [
              "<function print(*args, sep=' ', end='\\n', file=None, flush=False)>"
            ]
          },
          "metadata": {},
          "execution_count": 11
        }
      ]
    },
    {
      "cell_type": "code",
      "source": [
        "\n",
        "# Call the .mean function of the numpy array without choosing an axis\n",
        "print(f\"Numpy.ndarray.mean: X_np.mean:\\n{X_np.mean()}\")\n",
        "print()\n",
        "# Call the .mean function of the numpy array, choosing axis=0\n",
        "print(f\"Numpy.ndarray.mean: X_np.mean(axis=0):\\n{X_np.mean(axis=0)}\")"
      ],
      "metadata": {
        "id": "GTYsWkbQLn9u",
        "outputId": "2d2b0bf5-da60-4923-f8b5-a7a11c115721",
        "colab": {
          "base_uri": "https://localhost:8080/"
        }
      },
      "execution_count": null,
      "outputs": [
        {
          "output_type": "stream",
          "name": "stdout",
          "text": [
            "Numpy.ndarray.mean: X_np.mean:\n",
            "0.5173746556512572\n",
            "\n",
            "Numpy.ndarray.mean: X_np.mean(axis=0):\n",
            "[0.49414063 0.54789289 0.51079451 0.49200596 0.5420393 ]\n"
          ]
        }
      ]
    },
    {
      "cell_type": "markdown",
      "source": [
        "If the mean is too high or too low, it might suggest skewed data.\n",
        "\n",
        "Useful for normalization (scaling all values based on the mean).\n",
        "\n",
        "Compare features, detect bias or scaling needs\n",
        "\n",
        "All values are between 0 and 1,  data is already scaled or normalized (possibly Min-Max or StandardScaler)."
      ],
      "metadata": {
        "id": "mpLOJhm1DENI"
      }
    }
  ]
}